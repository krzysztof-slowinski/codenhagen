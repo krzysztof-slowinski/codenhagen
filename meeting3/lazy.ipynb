{
 "cells": [
  {
   "cell_type": "code",
   "execution_count": null,
   "metadata": {},
   "outputs": [],
   "source": [
    "def is_leap_year(year):\n",
    "    return year % 4 == 0 and (year % 100 != 0 or (year % 100 == 0 and year % 400 == 0))"
   ]
  },
  {
   "cell_type": "code",
   "execution_count": null,
   "metadata": {},
   "outputs": [],
   "source": [
    "is_leap_year(2019)"
   ]
  },
  {
   "cell_type": "code",
   "execution_count": null,
   "metadata": {},
   "outputs": [],
   "source": [
    "is_leap_year(2020)"
   ]
  },
  {
   "cell_type": "code",
   "execution_count": null,
   "metadata": {},
   "outputs": [],
   "source": [
    "_year_from = 0\n",
    "_year_to = 100000"
   ]
  },
  {
   "cell_type": "code",
   "execution_count": null,
   "metadata": {},
   "outputs": [],
   "source": [
    "def leap_years_list(year_from, year_to):\n",
    "    years = []\n",
    "    y = year_from\n",
    "    while (y <= year_to):\n",
    "        years.append(y)\n",
    "        y += 1\n",
    "    return years\n",
    "\n",
    "return [year for year in years if is_leap_year(year)]"
   ]
  },
  {
   "cell_type": "code",
   "execution_count": null,
   "metadata": {},
   "outputs": [],
   "source": [
    "%timeit leap_years_list(_year_from, _year_to)"
   ]
  },
  {
   "cell_type": "code",
   "execution_count": null,
   "metadata": {},
   "outputs": [],
   "source": [
    "def leap_generator(year_from, year_to):\n",
    "    year = year_from\n",
    "    while year <= year_to:\n",
    "        if is_leap_year(year):\n",
    "            yield year\n",
    "        year += 1\n",
    "\n",
    "def leap_years_generator(year_from, year_to):\n",
    "    return [y for y in leap_generator(_year_from, _year_to)]"
   ]
  },
  {
   "cell_type": "code",
   "execution_count": null,
   "metadata": {},
   "outputs": [],
   "source": [
    "%timeit leap_years_generator(_year_from, _year_to)"
   ]
  },
  {
   "cell_type": "code",
   "execution_count": null,
   "metadata": {},
   "outputs": [],
   "source": [
    "def leap_years_range(year_from, year_to):\n",
    "    return [year for year in range(year_from, year_to + 1) if is_leap_year(year)]"
   ]
  },
  {
   "cell_type": "code",
   "execution_count": null,
   "metadata": {},
   "outputs": [],
   "source": [
    "%timeit leap_years_range(_year_from, _year_to)"
   ]
  }
 ],
 "metadata": {
  "kernelspec": {
   "display_name": "Python 3",
   "language": "python",
   "name": "python3"
  },
  "language_info": {
   "codemirror_mode": {
    "name": "ipython",
    "version": 3
   },
   "file_extension": ".py",
   "mimetype": "text/x-python",
   "name": "python",
   "nbconvert_exporter": "python",
   "pygments_lexer": "ipython3",
   "version": "3.7.4"
  }
 },
 "nbformat": 4,
 "nbformat_minor": 4
}
